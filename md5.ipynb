{
  "nbformat": 4,
  "nbformat_minor": 0,
  "metadata": {
    "colab": {
      "name": "Untitled0.ipynb",
      "provenance": [],
      "authorship_tag": "ABX9TyOwKh7Fvq5xStJZ1s/6d3E0",
      "include_colab_link": true
    },
    "kernelspec": {
      "name": "python3",
      "display_name": "Python 3"
    },
    "language_info": {
      "name": "python"
    }
  },
  "cells": [
    {
      "cell_type": "markdown",
      "metadata": {
        "id": "view-in-github",
        "colab_type": "text"
      },
      "source": [
        "<a href=\"https://colab.research.google.com/github/chanduprasadreddyagarala/shapeai-python-/blob/main/md5.ipynb\" target=\"_parent\"><img src=\"https://colab.research.google.com/assets/colab-badge.svg\" alt=\"Open In Colab\"/></a>"
      ]
    },
    {
      "cell_type": "code",
      "metadata": {
        "id": "fBKpWL5AFZxK"
      },
      "source": [
        ""
      ],
      "execution_count": null,
      "outputs": []
    },
    {
      "cell_type": "markdown",
      "metadata": {
        "id": "WqWWpT8KFnPU"
      },
      "source": [
        "(1)To represent HASH in hexa decimal form"
      ]
    },
    {
      "cell_type": "code",
      "metadata": {
        "colab": {
          "base_uri": "https://localhost:8080/"
        },
        "id": "Ea_kkbuRFpvG",
        "outputId": "9702e40d-4772-4db0-e266-f701c4970c04"
      },
      "source": [
        "import hashlib \n",
        "mystring = input('Enter string to hash: ') \n",
        "hash_obj = hashlib.md5(mystring.encode()) \n",
        "print(hash_obj.hexdigest())"
      ],
      "execution_count": 1,
      "outputs": [
        {
          "output_type": "stream",
          "text": [
            "Enter string to hash: chandu\n",
            "532e00060697ee3c3b2dffb2a9ade357\n"
          ],
          "name": "stdout"
        }
      ]
    },
    {
      "cell_type": "markdown",
      "metadata": {
        "id": "P23Zb91rF-MW"
      },
      "source": [
        "To represent HASH in bytes form"
      ]
    },
    {
      "cell_type": "code",
      "metadata": {
        "colab": {
          "base_uri": "https://localhost:8080/"
        },
        "id": "QMZJzGfMF_q-",
        "outputId": "302045f3-c9c2-4cb0-d6fe-2904ec7ca1e5"
      },
      "source": [
        "import hashlib\n",
        "hash_obj = hashlib.md5(b'Hello, Python!')\n",
        "  #To generate, sequence of bytes\n",
        "print(hash_obj.digest())"
      ],
      "execution_count": 2,
      "outputs": [
        {
          "output_type": "stream",
          "text": [
            "b'\\xa0\\xafx\\x10\\xeb_\\xcb\\x84\\xc70\\xf8Q6\\x1d\\xe0j'\n"
          ],
          "name": "stdout"
        }
      ]
    },
    {
      "cell_type": "markdown",
      "metadata": {
        "id": "dTNOjTTWGIi8"
      },
      "source": [
        "Only md5 form"
      ]
    },
    {
      "cell_type": "code",
      "metadata": {
        "colab": {
          "base_uri": "https://localhost:8080/"
        },
        "id": "fq66GpjQGJ3l",
        "outputId": "46b1d9ce-2ab7-4b8a-97a0-28ac700d71bb"
      },
      "source": [
        "print(hash_obj)"
      ],
      "execution_count": 3,
      "outputs": [
        {
          "output_type": "stream",
          "text": [
            "<md5 HASH object @ 0x7f376681dc60>\n"
          ],
          "name": "stdout"
        }
      ]
    },
    {
      "cell_type": "markdown",
      "metadata": {
        "id": "4oLVcuJvGYKL"
      },
      "source": [
        "(2)ALGORITHM 1: hash with SHA-2"
      ]
    },
    {
      "cell_type": "code",
      "metadata": {
        "colab": {
          "base_uri": "https://localhost:8080/"
        },
        "id": "dV7bOGBbGZcp",
        "outputId": "79815f7e-7d87-4f59-ea0f-b98256d42abd"
      },
      "source": [
        "import hashlib\n",
        "\n",
        "# encode it to bytes using UTF-8 encoding\n",
        "message = \"Some text to hash\".encode()\n",
        "print(\"SHA-256:\", hashlib.sha256(message).hexdigest())\n",
        "\n",
        "print(\"SHA-512:\", hashlib.sha512(message).hexdigest())"
      ],
      "execution_count": 4,
      "outputs": [
        {
          "output_type": "stream",
          "text": [
            "SHA-256: 7a86e0e93e6aa6cf49f19368ca7242e24640a988ac8e5508dfcede39fa53faa2\n",
            "SHA-512: 96fa772f72678c85bbd5d23b66d51d50f8f9824a0aba0ded624ab61fe8b602bf4e3611075fe13595d3e74c63c59f7d79241acc97888e9a7a5c791159c85c3ccd\n"
          ],
          "name": "stdout"
        }
      ]
    },
    {
      "cell_type": "markdown",
      "metadata": {
        "id": "KlqPv0MLGeNc"
      },
      "source": [
        "ALGORITHM 2: hash with SHA-3"
      ]
    },
    {
      "cell_type": "code",
      "metadata": {
        "colab": {
          "base_uri": "https://localhost:8080/"
        },
        "id": "JUcIhVJ9Gj-y",
        "outputId": "a96155ac-1df9-4b2c-fdff-4f129fd5e604"
      },
      "source": [
        "print(\"SHA-3-256:\", hashlib.sha3_256(message).hexdigest())\n",
        "\n",
        "print(\"SHA-3-512:\", hashlib.sha3_512(message).hexdigest())"
      ],
      "execution_count": 5,
      "outputs": [
        {
          "output_type": "stream",
          "text": [
            "SHA-3-256: d7007c1cd52f8168f22fa25ef011a5b3644bcb437efa46de34761d3340187609\n",
            "SHA-3-512: de6b4c8f7d4fd608987c123122bcc63081372d09b4bc14955bfc828335dec1246b5c6633c5b1c87d2ad2b777d713d7777819263e7ad675a3743bf2a35bc699d0\n"
          ],
          "name": "stdout"
        }
      ]
    },
    {
      "cell_type": "markdown",
      "metadata": {
        "id": "MAwKxYeUGoy6"
      },
      "source": [
        "ALGORITHM 3: hash with BLAKE2"
      ]
    },
    {
      "cell_type": "code",
      "metadata": {
        "colab": {
          "base_uri": "https://localhost:8080/"
        },
        "id": "r-i7IL_SGsHN",
        "outputId": "c5a59bbd-14ac-40d4-ab7c-895db3f5c034"
      },
      "source": [
        "# 256-bit BLAKE2 (or BLAKE2s)\n",
        "print(\"BLAKE2c:\", hashlib.blake2s(message).hexdigest())\n",
        "# 512-bit BLAKE2 (or BLAKE2b)\n",
        "print(\"BLAKE2b:\", hashlib.blake2b(message).hexdigest())"
      ],
      "execution_count": 6,
      "outputs": [
        {
          "output_type": "stream",
          "text": [
            "BLAKE2c: 6889074426b5454d751547cd33ca4c64cd693f86ce69be5c951223f3af845786\n",
            "BLAKE2b: 13e2ca8f6a282f27b2022dde683490b1085b3e16a98ee77b44b25bc84a0366afe8d70a4aa47dd10e064f1f772573513d64d56e5ef646fb935c040b32f67e5ab2\n"
          ],
          "name": "stdout"
        }
      ]
    },
    {
      "cell_type": "markdown",
      "metadata": {
        "id": "9qEhjyiOGw8s"
      },
      "source": [
        "(3)salting"
      ]
    },
    {
      "cell_type": "code",
      "metadata": {
        "id": "9SWg_aa4G46W"
      },
      "source": [
        "import uuid\n",
        "import hashlib\n",
        "\n",
        "def hashText(text):\n",
        "    \"\"\"\n",
        "        Basic hashing function for a text using random unique salt.  \n",
        "    \"\"\"\n",
        "    salt = uuid.uuid4().hex\n",
        "    return hashlib.sha256(salt.encode() + text.encode()).hexdigest() + ':' + salt\n",
        "    \n",
        "def matchHashedText(hashedText, providedText):\n",
        "    \"\"\"\n",
        "        Check for the text in the hashed text\n",
        "    \"\"\"\n",
        "    _hashedText, salt = hashedText.split(':')\n",
        "    return _hashedText == hashlib.sha256(salt.encode() + providedText.encode()).hexdigest()"
      ],
      "execution_count": 8,
      "outputs": []
    },
    {
      "cell_type": "code",
      "metadata": {
        "colab": {
          "base_uri": "https://localhost:8080/"
        },
        "id": "_MjOyPupHDAi",
        "outputId": "db678f38-88e6-4a05-b0a1-4e95283e9310"
      },
      "source": [
        "hashText(\"text\")\n",
        "matchHashedText(hashText(\"text\"), \"text\")"
      ],
      "execution_count": 9,
      "outputs": [
        {
          "output_type": "execute_result",
          "data": {
            "text/plain": [
              "True"
            ]
          },
          "metadata": {
            "tags": []
          },
          "execution_count": 9
        }
      ]
    },
    {
      "cell_type": "markdown",
      "metadata": {
        "id": "3BY3BMmAHGSU"
      },
      "source": [
        "(3)iterations\n"
      ]
    },
    {
      "cell_type": "code",
      "metadata": {
        "colab": {
          "base_uri": "https://localhost:8080/",
          "height": 35
        },
        "id": "TT_wyrP1HLbA",
        "outputId": "215bf459-63ec-4641-e324-14a3fb713783"
      },
      "source": [
        "from hashlib import blake2b, blake2s\n",
        "blake2b(digest_size=10).hexdigest()"
      ],
      "execution_count": 10,
      "outputs": [
        {
          "output_type": "execute_result",
          "data": {
            "application/vnd.google.colaboratory.intrinsic+json": {
              "type": "string"
            },
            "text/plain": [
              "'6fa1d8fcfd719046d762'"
            ]
          },
          "metadata": {
            "tags": []
          },
          "execution_count": 10
        }
      ]
    },
    {
      "cell_type": "code",
      "metadata": {
        "colab": {
          "base_uri": "https://localhost:8080/",
          "height": 35
        },
        "id": "Cd_BYJvuHQ7F",
        "outputId": "67067640-236b-4d68-8ac4-feb1b9fa2175"
      },
      "source": [
        "blake2b(digest_size=11).hexdigest()"
      ],
      "execution_count": 11,
      "outputs": [
        {
          "output_type": "execute_result",
          "data": {
            "application/vnd.google.colaboratory.intrinsic+json": {
              "type": "string"
            },
            "text/plain": [
              "'eb6ec15daf9546254f0809'"
            ]
          },
          "metadata": {
            "tags": []
          },
          "execution_count": 11
        }
      ]
    },
    {
      "cell_type": "code",
      "metadata": {
        "colab": {
          "base_uri": "https://localhost:8080/",
          "height": 35
        },
        "id": "AiM07aBRHXoW",
        "outputId": "128a8cc4-8997-4ebd-f915-52a1a1996681"
      },
      "source": [
        "blake2s(digest_size=10).hexdigest()"
      ],
      "execution_count": 12,
      "outputs": [
        {
          "output_type": "execute_result",
          "data": {
            "application/vnd.google.colaboratory.intrinsic+json": {
              "type": "string"
            },
            "text/plain": [
              "'1bf21a98c78a1c376ae9'"
            ]
          },
          "metadata": {
            "tags": []
          },
          "execution_count": 12
        }
      ]
    },
    {
      "cell_type": "code",
      "metadata": {
        "colab": {
          "base_uri": "https://localhost:8080/",
          "height": 35
        },
        "id": "1kzSo8mhHgFw",
        "outputId": "de8766ec-237b-461f-e2e0-8bfcc0656aa9"
      },
      "source": [
        "blake2s(digest_size=11).hexdigest()"
      ],
      "execution_count": 13,
      "outputs": [
        {
          "output_type": "execute_result",
          "data": {
            "application/vnd.google.colaboratory.intrinsic+json": {
              "type": "string"
            },
            "text/plain": [
              "'567004bf96e4a25773ebf4'"
            ]
          },
          "metadata": {
            "tags": []
          },
          "execution_count": 13
        }
      ]
    }
  ]
}